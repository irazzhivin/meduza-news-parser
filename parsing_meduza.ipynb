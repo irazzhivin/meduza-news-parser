{
 "cells": [
  {
   "cell_type": "code",
   "execution_count": 92,
   "metadata": {
    "scrolled": true
   },
   "outputs": [
    {
     "name": "stdout",
     "output_type": "stream",
     "text": [
      "Requirement already satisfied: unicodedata2 in /usr/local/Caskroom/miniconda/base/lib/python3.8/site-packages (14.0.0)\r\n"
     ]
    }
   ],
   "source": [
    "import requests\n",
    "import json\n",
    "import time\n",
    "import os\n",
    "from bs4 import BeautifulSoup\n",
    "!pip install unicodedata2\n",
    "from unicodedata2 import normalize\n",
    "from parse_tools import get_page_data"
   ]
  },
  {
   "cell_type": "code",
   "execution_count": 101,
   "metadata": {},
   "outputs": [],
   "source": [
    "stream = 'https://meduza.io/api/v3/search?chrono=news&locale=ru&page={page}&per_page=30'\n",
    "USER_AGENT = \"Mozilla/5.0 (X11; Ubuntu; Linux x86_64; rv:63.0) Gecko/20100101 Firefox/63.0\""
   ]
  },
  {
   "cell_type": "code",
   "execution_count": 102,
   "metadata": {},
   "outputs": [],
   "source": [
    "%run pipe_tools.py"
   ]
  },
  {
   "cell_type": "code",
   "execution_count": 103,
   "metadata": {},
   "outputs": [],
   "source": [
    "def get_page_data(page, stream, user_agent, site_url=\"https://meduza.io/{0}\"):\n",
    "    #print(page)\n",
    "    headers = {'User-agent' : user_agent}\n",
    "    ans = requests.get(stream.format(page=page), headers=headers).json()\n",
    "    urls = [site_url.format(key) for key in ans['documents'].keys()]\n",
    "    for url in urls:\n",
    "        page_responce = requests.get(url, headers=headers, timeout=5)\n",
    "\n",
    "        if page_responce.status_code == 200:\n",
    "            page_content = BeautifulSoup(page_responce.content, \"html.parser\")\n",
    "            #print(page_content)\n",
    "            textContent = []\n",
    "            title = page_content.find_all(\"h1\")[0].text\n",
    "            link = page_content.find_all(\"meta\", property=\"og:url\")[0][\"content\"]\n",
    "            tags = page_content.find_all(\"meta\", attrs={\"name\":\"keywords\"})[0][\"content\"]\n",
    "            category = page_content.find_all(class_=\"Layout-root\")[0][\"data-material\"]\n",
    "            for i in range(0, len(page_content.find_all(\"p\"))):\n",
    "                paragraphs = page_content.find_all(\"p\")[i].text\n",
    "                textContent.append(normalize('NFKD', paragraphs))\n",
    "\n",
    "            body = \"\".join(textContent)\n",
    "            \n",
    "            new_title = normalize('NFKD', title)\n",
    "\n",
    "            entry = {\"article_id\" : link, \"title\" : new_title, \"category\" : category, \"tags\" : tags, \"text\" : body}\n",
    "            \n",
    "            #print(entry)\n",
    "\n",
    "            with open('meduza_dump/page{pagenum:03d}_{timestamp}.json'.format(pagenum = page, timestamp = int(time.time())), 'w', encoding='utf-8') as f: \n",
    "                json.dump(entry, f, ensure_ascii=False, indent=2)\n",
    "            #data = json.load(open('res_dump2/page.json', \"rb\"))\n",
    "            #print(\"ss\")\n",
    "            #print(data)\n",
    "            #print(\"ss\")\n",
    "            #data['catalog'].append(entry)\n",
    "            #print(data)\n",
    "            #json.dump(data, open('res_dump2/page77.json', \"wb\"), ensure_ascii=False, indent=2)\n",
    "           \n",
    "                "
   ]
  },
  {
   "cell_type": "code",
   "execution_count": 104,
   "metadata": {},
   "outputs": [
    {
     "data": {
      "application/vnd.jupyter.widget-view+json": {
       "model_id": "008a5b9348a04fa99a59b33cae207449",
       "version_major": 2,
       "version_minor": 0
      },
      "text/plain": [
       "IntProgress(value=0, max=25)"
      ]
     },
     "metadata": {},
     "output_type": "display_data"
    },
    {
     "data": {
      "application/vnd.jupyter.widget-view+json": {
       "model_id": "4921839ce7354d0e999ebe3fd9ca978e",
       "version_major": 2,
       "version_minor": 0
      },
      "text/plain": [
       "IntProgress(value=0, max=25)"
      ]
     },
     "metadata": {},
     "output_type": "display_data"
    },
    {
     "data": {
      "application/vnd.jupyter.widget-view+json": {
       "model_id": "26bbdbd7072244b4a3f8291130460c55",
       "version_major": 2,
       "version_minor": 0
      },
      "text/plain": [
       "IntProgress(value=0, max=25)"
      ]
     },
     "metadata": {},
     "output_type": "display_data"
    },
    {
     "data": {
      "application/vnd.jupyter.widget-view+json": {
       "model_id": "e9e6f815743f467b95ad44ed0aabbc00",
       "version_major": 2,
       "version_minor": 0
      },
      "text/plain": [
       "IntProgress(value=0, max=25)"
      ]
     },
     "metadata": {},
     "output_type": "display_data"
    }
   ],
   "source": [
    "%job [get_page_data(page=page, stream=stream, user_agent=USER_AGENT) for page in log_progress(range(25))]\n",
    "%job [get_page_data(page=page, stream=stream, user_agent=USER_AGENT) for page in log_progress(range(25,50))]\n",
    "%job [get_page_data(page=page, stream=stream, user_agent=USER_AGENT) for page in log_progress(range(50,75))]\n",
    "%job [get_page_data(page=page, stream=stream, user_agent=USER_AGENT) for page in log_progress(range(75,100))]\n",
    "\n",
    "#i = get_page_data(page=26, stream=stream, user_agent=USER_AGENT)\n",
    "#print(i)\n",
    "#print(i.find_all(class_=\"Layout-root\")[0][\"data-material\"])"
   ]
  },
  {
   "cell_type": "code",
   "execution_count": 78,
   "metadata": {},
   "outputs": [
    {
     "name": "stdout",
     "output_type": "stream",
     "text": [
      "{'article_id': 'https://meduza.io/news/2021/12/27/v-podmoskovie-vynesen-prigovor-po-delu-ob-ubiystve-v-drake-spetsnazovtsa-gru-obvinyaemye-poluchili-ot-pyati-do-20-let-kolonii', 'title': 'В Подмосковье вынесен приговор по делу об убийстве в драке спецназовца ГРУ. Обвиняемые получили от пяти до 20 лет колонии', 'category': 'news', 'tags': 'новости, политика, расследование, репортаж, интервью, реакция, исследование, опрос, тест, президент, приговор, доллар, нефть, экономика, цены, средства, информация, компания, фото, видео, украина, сепаратисты, война, краткий пересказ, бестселлер', 'text': 'Данное сообщение (материал) создано и (или) распространено иностранным средством массовой информации, выполняющим функции иностранного агента, и (или) российским юридическим лицом, выполняющим функции иностранного агента.Нам нужна ваша помощь. Пожалуйста, поддержите «Медузу».Московский областной суд приговорил девятерых фигурантов дела об убийстве бывшего спецназовца ГРУ Никиты Белянкина летом 2019 года к срокам от пяти до 20 лет колонии. Об этом сообщили прокуратура Подмосковья и Следственный комитет.Самые длительные сроки — по 20, 18 и 17 лет колонии строгого режима — получили Сергей Ходжоян, а также братья Грант и Гамлет Айрапетяны. Их признали виновными в убийстве спецназовца, покушении на убийство еще двух человек и хулиганстве. Как установил суд, Ходжоян ударил Белянкина ножом, от чего тот умер, а Айрапетяны удерживали бывшего спецназовца в момент убийства.Еще шесть фигурантов дела — Нарек Степанян, Сурен Маркосян, Рудик Манукян, Давид Егиазарян, Саак Саакян и Артур Акобян — были осуждены по статье о хулиганстве. Им назначены сроки от 5 до 5,5 года колонии общего режима. Никто из подсудимых свою вину не признал.Убийство Белянкина произошло 1 июня 2019 года в подмосковном Путилково. По версии следствия и суда, директор одного из местных кафе Гурген Агаян потребовал от двух посетителей — врачей-реаниматологов — покинуть заведение. Конфликт перерос в драку с участием еще девяти человек, в результате которой один из медиков получил удар ножом в живот. Бывший спецназовец проходил мимо и попытался заступиться за врачей, после чего его избили и ударили ножом в сердце.Еще двое фигурантов дела — Гурген Агаян, обвиняемый в хулиганстве, и Оганес Айрапетян, обвиняемый в убийстве и хулиганстве — заочно арестованы и объявлены в международный розыск.'}\n",
      "{'article_id': 'https://meduza.io/episodes/2021/12/26/zachem-rossiyskih-naemnikov-snova-zovut-v-donbass-spoyler-my-ne-znaem-no-ochen-nadeemsya-chto-voyny-ne-budet', 'title': 'Зачем российских наемников снова зовут в Донбасс? (Спойлер: мы не знаем, но очень надеемся, что войны не будет)', 'category': 'episodes', 'tags': 'meduza, новости, медуза, политика, украина, россия, донбасс, наемник, чвк, вагнер, хутор веселый, командировка, война, охрана, нато, сша, киев, москва, бойцы', 'text': 'Данное сообщение (материал) создано и (или) распространено иностранным средством массовой информации, выполняющим функции иностранного агента, и (или) российским юридическим лицом, выполняющим функции иностранного агента.Нам нужна ваша помощь. Пожалуйста, поддержите «Медузу».Российские войска уже второй раз за год концентрируются вблизи границ с Украиной. Западные СМИ всерьез опасаются, что Москва готовится к вторжению в соседнюю страну. В Кремле все отрицают и заявляют, что Россия никому не угрожает, но также требуют от НАТО и США гарантий безопасности в регионе. На этом фоне, как узнала «Медуза», среди российских наемников, ветеранов Донбасса, был объявлен новый сбор. У этой командировки загадочные, непонятные цели: одни наемники полагают, что едут на настоящую войну, другие — что их зовут охранять промышленные объекты, третьи считают, что никакой командировки вовсе не будет. Подробности этой истории рассказывает спецкор «Медузы» Лилия Яппарова.🎙 Подписывайтесь на подкаст «Текст недели», мы есть на всех основных платформах.Ведущий — Александр ФилимоновМузыка, саунддизайн — Алексей Пономарев, Алексей Зеленский, Виктор ДавыдовПишите письма на podcasts@meduza.io'}\n",
      "{'article_id': 'https://meduza.io/news/2021/12/27/mosgorsud-ostavil-zhurnalista-ivana-safronova-v-sizo-esche-na-tri-mesyatsa-k-kontsu-etogo-sroka-on-provedet-pod-arestom-639-dney', 'title': 'Мосгорсуд оставил журналиста Ивана Сафронова в СИЗО еще на три месяца. К концу этого срока он проведет под арестом 639 дней', 'category': 'news', 'tags': 'новости, политика, расследование, репортаж, интервью, реакция, исследование, опрос, тест, президент, приговор, доллар, нефть, экономика, цены, средства, информация, компания, фото, видео, украина, сепаратисты, война, краткий пересказ, бестселлер', 'text': 'Данное сообщение (материал) создано и (или) распространено иностранным средством массовой информации, выполняющим функции иностранного агента, и (или) российским юридическим лицом, выполняющим функции иностранного агента.Нам нужна ваша помощь. Пожалуйста, поддержите «Медузу».Московский городской суд продлил срок ареста журналиста Ивана Сафронова, обвиняемого в государственной измене, до 7 апреля 2022 года, сообщает телеграм-канал «Московские суды общей юрисдикции».На оглашение решения суда не пустили никого из его близких, в том числе сестру и невесту Сафронова, сообщается в телеграм-канале «Свободу Сафронову!», который ведут друзья арестованного журналиста. Авторы канала отметили, что на других заседаниях родным позволяли увидеться с Сафроновым (кроме одного заседания в декабре 2020-го, когда он присутствовал по видеосвязи).Ранее суды неоднократно продлевали срок заключения Ивана Сафронова. К 7 апреля 2022-го журналист пробудет под арестом 639 дней, или один год и девять месяцев.Бывшего журналиста «Коммерсанта» и «Ведомостей», советника главы «Роскосмоса» Ивана Сафронова арестовали 7 июля 2020 года по обвинению в госизмене.По версии ФСБ, в 2017 году Сафронов, работая в «Коммерсанте», передал секретную информацию спецслужбам Чехии, а в 2015-м сообщил политологу Демури Воронину, имеющему гражданство РФ и ФРГ, информацию о российских войсках в Сирии.Защита Сафронова считает, что уголовное преследование связано с его журналистской деятельностью. Следователи это отрицают, но ранее они предлагали Сафронову заключить досудебное соглашение в обмен на раскрытие журналистских источников.'}\n",
      "['./meduza_dump2/page026_1642533720.json', './meduza_dump2/page027_1642533726.json', './meduza_dump2/page026_1642533721.json', './meduza_dump2/page027_1642533725.json', './meduza_dump2/page026_1642533718.json', './meduza_dump2/page026_1642533722.json', './meduza_dump2/page026_1642533723.json', './meduza_dump2/page026_1642533719.json', './meduza_dump2/page027_1642533724.json', './meduza_dump2/page027_1642533723.json']\n"
     ]
    }
   ],
   "source": []
  },
  {
   "cell_type": "code",
   "execution_count": 145,
   "metadata": {},
   "outputs": [
    {
     "data": {
      "application/vnd.jupyter.widget-view+json": {
       "model_id": "1521894f348c4cc988fd429be43f4268",
       "version_major": 2,
       "version_minor": 0
      },
      "text/plain": [
       "IntProgress(value=0, max=177)"
      ]
     },
     "metadata": {},
     "output_type": "display_data"
    }
   ],
   "source": [
    "%job [get_page_data(page=page, stream=stream, user_agent=USER_AGENT) for page in log_progress(range(1000,1177))]"
   ]
  },
  {
   "cell_type": "code",
   "execution_count": 151,
   "metadata": {},
   "outputs": [
    {
     "name": "stdout",
     "output_type": "stream",
     "text": [
      "Running jobs:\n",
      "10 : [get_page_data(page=page, stream=stream, user_agent=USER_AGENT) for page in log_progress(range(1000,1177))]\n",
      "\n",
      "Completed jobs:\n",
      "1 : [get_page_data(page=page, stream=stream, user_agent=USER_AGENT) for page in log_progress(range(25,50))]\n",
      "2 : [get_page_data(page=page, stream=stream, user_agent=USER_AGENT) for page in log_progress(range(50,75))]\n",
      "4 : [get_page_data(page=page, stream=stream, user_agent=USER_AGENT) for page in log_progress(range(25))]\n",
      "6 : [get_page_data(page=page, stream=stream, user_agent=USER_AGENT) for page in log_progress(range(325,450))]\n",
      "9 : [get_page_data(page=page, stream=stream, user_agent=USER_AGENT) for page in log_progress(range(920,1000))]\n",
      "\n",
      "Dead jobs:\n",
      "0 : [get_page_data(page=page, stream=stream, user_agent=USER_AGENT) for page in log_progress(range(25))]\n",
      "3 : [get_page_data(page=page, stream=stream, user_agent=USER_AGENT) for page in log_progress(range(75,100))]\n",
      "5 : [get_page_data(page=page, stream=stream, user_agent=USER_AGENT) for page in log_progress(range(125,350))]\n",
      "7 : [get_page_data(page=page, stream=stream, user_agent=USER_AGENT) for page in log_progress(range(450,1000))]\n",
      "8 : [get_page_data(page=page, stream=stream, user_agent=USER_AGENT) for page in log_progress(range(620,1000))]\n",
      "\n"
     ]
    }
   ],
   "source": [
    "jobs.status()"
   ]
  },
  {
   "cell_type": "code",
   "execution_count": 152,
   "metadata": {},
   "outputs": [],
   "source": [
    "with open(\"merged_meduza_dump.json\", \"wb\") as outfile:\n",
    "    outfile.write(\"[\".encode())\n",
    "    counter=1\n",
    "    for f in glob.glob(\"./meduza_dump/*.json\"):\n",
    "        with open(f, \"rb\") as infile:\n",
    "            line = None\n",
    "            for line in infile:\n",
    "                outfile.write(line)\n",
    "            if line is not None and not line.endswith(b\"\\n\"):\n",
    "                outfile.write(b\"\\n\")\n",
    "            if counter < len(glob.glob(\"*.json\")):\n",
    "                outfile.write(\",\".encode())\n",
    "            else:\n",
    "                outfile.write(\"]\".encode())\n",
    "            counter=counter+1"
   ]
  },
  {
   "cell_type": "code",
   "execution_count": null,
   "metadata": {},
   "outputs": [],
   "source": []
  }
 ],
 "metadata": {
  "kernelspec": {
   "display_name": "Python 3",
   "language": "python",
   "name": "python3"
  },
  "language_info": {
   "codemirror_mode": {
    "name": "ipython",
    "version": 3
   },
   "file_extension": ".py",
   "mimetype": "text/x-python",
   "name": "python",
   "nbconvert_exporter": "python",
   "pygments_lexer": "ipython3",
   "version": "3.8.3"
  }
 },
 "nbformat": 4,
 "nbformat_minor": 2
}
